{
 "cells": [
  {
   "cell_type": "code",
   "execution_count": 47,
   "id": "21ebe4b1-d15f-4e47-bf99-e7aff90f46c0",
   "metadata": {},
   "outputs": [],
   "source": [
    "import pandas as pd\n",
    "import scipy.sparse as sparse\n",
    "import numpy as np\n",
    "import warnings\n",
    "from collections import Counter\n",
    "from sklearn.metrics.pairwise import cosine_similarity\n",
    "from tqdm import tqdm_notebook\n",
    "warnings.filterwarnings(\"ignore\")"
   ]
  },
  {
   "cell_type": "code",
   "execution_count": 2,
   "id": "dc851304-6cb0-4837-98f3-27d9a53a8849",
   "metadata": {},
   "outputs": [
    {
     "data": {
      "text/html": [
       "<div>\n",
       "<style scoped>\n",
       "    .dataframe tbody tr th:only-of-type {\n",
       "        vertical-align: middle;\n",
       "    }\n",
       "\n",
       "    .dataframe tbody tr th {\n",
       "        vertical-align: top;\n",
       "    }\n",
       "\n",
       "    .dataframe thead th {\n",
       "        text-align: right;\n",
       "    }\n",
       "</style>\n",
       "<table border=\"1\" class=\"dataframe\">\n",
       "  <thead>\n",
       "    <tr style=\"text-align: right;\">\n",
       "      <th></th>\n",
       "      <th>overall</th>\n",
       "      <th>verified</th>\n",
       "      <th>reviewTime</th>\n",
       "      <th>reviewerID</th>\n",
       "      <th>asin</th>\n",
       "      <th>style</th>\n",
       "      <th>reviewerName</th>\n",
       "      <th>reviewText</th>\n",
       "      <th>summary</th>\n",
       "      <th>unixReviewTime</th>\n",
       "      <th>vote</th>\n",
       "      <th>image</th>\n",
       "    </tr>\n",
       "  </thead>\n",
       "  <tbody>\n",
       "    <tr>\n",
       "      <th>0</th>\n",
       "      <td>5</td>\n",
       "      <td>True</td>\n",
       "      <td>09 4, 2015</td>\n",
       "      <td>ALJ66O1Y6SLHA</td>\n",
       "      <td>B000K2PJ4K</td>\n",
       "      <td>{'Size:': ' Big Boys', 'Color:': ' Blue/Orange'}</td>\n",
       "      <td>Tonya B.</td>\n",
       "      <td>Great product and price!</td>\n",
       "      <td>Five Stars</td>\n",
       "      <td>1441324800</td>\n",
       "      <td>NaN</td>\n",
       "      <td>NaN</td>\n",
       "    </tr>\n",
       "    <tr>\n",
       "      <th>1</th>\n",
       "      <td>5</td>\n",
       "      <td>True</td>\n",
       "      <td>09 4, 2015</td>\n",
       "      <td>ALJ66O1Y6SLHA</td>\n",
       "      <td>B000K2PJ4K</td>\n",
       "      <td>{'Size:': ' Big Boys', 'Color:': ' Black (3746...</td>\n",
       "      <td>Tonya B.</td>\n",
       "      <td>Great product and price!</td>\n",
       "      <td>Five Stars</td>\n",
       "      <td>1441324800</td>\n",
       "      <td>NaN</td>\n",
       "      <td>NaN</td>\n",
       "    </tr>\n",
       "    <tr>\n",
       "      <th>2</th>\n",
       "      <td>5</td>\n",
       "      <td>True</td>\n",
       "      <td>09 4, 2015</td>\n",
       "      <td>ALJ66O1Y6SLHA</td>\n",
       "      <td>B000K2PJ4K</td>\n",
       "      <td>{'Size:': ' Big Boys', 'Color:': ' Blue/Gray L...</td>\n",
       "      <td>Tonya B.</td>\n",
       "      <td>Great product and price!</td>\n",
       "      <td>Five Stars</td>\n",
       "      <td>1441324800</td>\n",
       "      <td>NaN</td>\n",
       "      <td>NaN</td>\n",
       "    </tr>\n",
       "    <tr>\n",
       "      <th>3</th>\n",
       "      <td>5</td>\n",
       "      <td>True</td>\n",
       "      <td>09 4, 2015</td>\n",
       "      <td>ALJ66O1Y6SLHA</td>\n",
       "      <td>B000K2PJ4K</td>\n",
       "      <td>{'Size:': ' Big Boys', 'Color:': ' Blue (37867...</td>\n",
       "      <td>Tonya B.</td>\n",
       "      <td>Great product and price!</td>\n",
       "      <td>Five Stars</td>\n",
       "      <td>1441324800</td>\n",
       "      <td>NaN</td>\n",
       "      <td>NaN</td>\n",
       "    </tr>\n",
       "    <tr>\n",
       "      <th>4</th>\n",
       "      <td>5</td>\n",
       "      <td>True</td>\n",
       "      <td>09 4, 2015</td>\n",
       "      <td>ALJ66O1Y6SLHA</td>\n",
       "      <td>B000K2PJ4K</td>\n",
       "      <td>{'Size:': ' Big Boys', 'Color:': ' Blue/Pink'}</td>\n",
       "      <td>Tonya B.</td>\n",
       "      <td>Great product and price!</td>\n",
       "      <td>Five Stars</td>\n",
       "      <td>1441324800</td>\n",
       "      <td>NaN</td>\n",
       "      <td>NaN</td>\n",
       "    </tr>\n",
       "  </tbody>\n",
       "</table>\n",
       "</div>"
      ],
      "text/plain": [
       "   overall  verified  reviewTime     reviewerID        asin  \\\n",
       "0        5      True  09 4, 2015  ALJ66O1Y6SLHA  B000K2PJ4K   \n",
       "1        5      True  09 4, 2015  ALJ66O1Y6SLHA  B000K2PJ4K   \n",
       "2        5      True  09 4, 2015  ALJ66O1Y6SLHA  B000K2PJ4K   \n",
       "3        5      True  09 4, 2015  ALJ66O1Y6SLHA  B000K2PJ4K   \n",
       "4        5      True  09 4, 2015  ALJ66O1Y6SLHA  B000K2PJ4K   \n",
       "\n",
       "                                               style reviewerName  \\\n",
       "0   {'Size:': ' Big Boys', 'Color:': ' Blue/Orange'}     Tonya B.   \n",
       "1  {'Size:': ' Big Boys', 'Color:': ' Black (3746...     Tonya B.   \n",
       "2  {'Size:': ' Big Boys', 'Color:': ' Blue/Gray L...     Tonya B.   \n",
       "3  {'Size:': ' Big Boys', 'Color:': ' Blue (37867...     Tonya B.   \n",
       "4     {'Size:': ' Big Boys', 'Color:': ' Blue/Pink'}     Tonya B.   \n",
       "\n",
       "                 reviewText     summary  unixReviewTime  vote image  \n",
       "0  Great product and price!  Five Stars      1441324800   NaN   NaN  \n",
       "1  Great product and price!  Five Stars      1441324800   NaN   NaN  \n",
       "2  Great product and price!  Five Stars      1441324800   NaN   NaN  \n",
       "3  Great product and price!  Five Stars      1441324800   NaN   NaN  \n",
       "4  Great product and price!  Five Stars      1441324800   NaN   NaN  "
      ]
     },
     "execution_count": 2,
     "metadata": {},
     "output_type": "execute_result"
    }
   ],
   "source": [
    "data = pd.read_json('AMAZON_FASHION_5.json', lines=True)\n",
    "data.head()"
   ]
  },
  {
   "cell_type": "code",
   "execution_count": 3,
   "id": "83802c3b-930d-42e6-9d1f-bd2e23f6d02b",
   "metadata": {},
   "outputs": [
    {
     "data": {
      "text/plain": [
       "(3176, 12)"
      ]
     },
     "execution_count": 3,
     "metadata": {},
     "output_type": "execute_result"
    }
   ],
   "source": [
    "data.shape"
   ]
  },
  {
   "cell_type": "code",
   "execution_count": 4,
   "id": "48f0e695-5d54-4d91-b7bd-59dc6a9d1816",
   "metadata": {},
   "outputs": [
    {
     "data": {
      "text/html": [
       "<div>\n",
       "<style scoped>\n",
       "    .dataframe tbody tr th:only-of-type {\n",
       "        vertical-align: middle;\n",
       "    }\n",
       "\n",
       "    .dataframe tbody tr th {\n",
       "        vertical-align: top;\n",
       "    }\n",
       "\n",
       "    .dataframe thead th {\n",
       "        text-align: right;\n",
       "    }\n",
       "</style>\n",
       "<table border=\"1\" class=\"dataframe\">\n",
       "  <thead>\n",
       "    <tr style=\"text-align: right;\">\n",
       "      <th></th>\n",
       "      <th>overall</th>\n",
       "      <th>verified</th>\n",
       "      <th>reviewTime</th>\n",
       "      <th>reviewerID</th>\n",
       "      <th>asin</th>\n",
       "      <th>style</th>\n",
       "      <th>reviewerName</th>\n",
       "      <th>reviewText</th>\n",
       "      <th>summary</th>\n",
       "      <th>unixReviewTime</th>\n",
       "      <th>vote</th>\n",
       "      <th>image</th>\n",
       "    </tr>\n",
       "  </thead>\n",
       "  <tbody>\n",
       "    <tr>\n",
       "      <th>0</th>\n",
       "      <td>5</td>\n",
       "      <td>True</td>\n",
       "      <td>2015-09-04</td>\n",
       "      <td>ALJ66O1Y6SLHA</td>\n",
       "      <td>B000K2PJ4K</td>\n",
       "      <td>{'Size:': ' Big Boys', 'Color:': ' Blue/Orange'}</td>\n",
       "      <td>Tonya B.</td>\n",
       "      <td>Great product and price!</td>\n",
       "      <td>Five Stars</td>\n",
       "      <td>1441324800</td>\n",
       "      <td>NaN</td>\n",
       "      <td>NaN</td>\n",
       "    </tr>\n",
       "    <tr>\n",
       "      <th>1</th>\n",
       "      <td>5</td>\n",
       "      <td>True</td>\n",
       "      <td>2015-09-04</td>\n",
       "      <td>ALJ66O1Y6SLHA</td>\n",
       "      <td>B000K2PJ4K</td>\n",
       "      <td>{'Size:': ' Big Boys', 'Color:': ' Black (3746...</td>\n",
       "      <td>Tonya B.</td>\n",
       "      <td>Great product and price!</td>\n",
       "      <td>Five Stars</td>\n",
       "      <td>1441324800</td>\n",
       "      <td>NaN</td>\n",
       "      <td>NaN</td>\n",
       "    </tr>\n",
       "    <tr>\n",
       "      <th>2</th>\n",
       "      <td>5</td>\n",
       "      <td>True</td>\n",
       "      <td>2015-09-04</td>\n",
       "      <td>ALJ66O1Y6SLHA</td>\n",
       "      <td>B000K2PJ4K</td>\n",
       "      <td>{'Size:': ' Big Boys', 'Color:': ' Blue/Gray L...</td>\n",
       "      <td>Tonya B.</td>\n",
       "      <td>Great product and price!</td>\n",
       "      <td>Five Stars</td>\n",
       "      <td>1441324800</td>\n",
       "      <td>NaN</td>\n",
       "      <td>NaN</td>\n",
       "    </tr>\n",
       "    <tr>\n",
       "      <th>3</th>\n",
       "      <td>5</td>\n",
       "      <td>True</td>\n",
       "      <td>2015-09-04</td>\n",
       "      <td>ALJ66O1Y6SLHA</td>\n",
       "      <td>B000K2PJ4K</td>\n",
       "      <td>{'Size:': ' Big Boys', 'Color:': ' Blue (37867...</td>\n",
       "      <td>Tonya B.</td>\n",
       "      <td>Great product and price!</td>\n",
       "      <td>Five Stars</td>\n",
       "      <td>1441324800</td>\n",
       "      <td>NaN</td>\n",
       "      <td>NaN</td>\n",
       "    </tr>\n",
       "    <tr>\n",
       "      <th>4</th>\n",
       "      <td>5</td>\n",
       "      <td>True</td>\n",
       "      <td>2015-09-04</td>\n",
       "      <td>ALJ66O1Y6SLHA</td>\n",
       "      <td>B000K2PJ4K</td>\n",
       "      <td>{'Size:': ' Big Boys', 'Color:': ' Blue/Pink'}</td>\n",
       "      <td>Tonya B.</td>\n",
       "      <td>Great product and price!</td>\n",
       "      <td>Five Stars</td>\n",
       "      <td>1441324800</td>\n",
       "      <td>NaN</td>\n",
       "      <td>NaN</td>\n",
       "    </tr>\n",
       "  </tbody>\n",
       "</table>\n",
       "</div>"
      ],
      "text/plain": [
       "   overall  verified reviewTime     reviewerID        asin  \\\n",
       "0        5      True 2015-09-04  ALJ66O1Y6SLHA  B000K2PJ4K   \n",
       "1        5      True 2015-09-04  ALJ66O1Y6SLHA  B000K2PJ4K   \n",
       "2        5      True 2015-09-04  ALJ66O1Y6SLHA  B000K2PJ4K   \n",
       "3        5      True 2015-09-04  ALJ66O1Y6SLHA  B000K2PJ4K   \n",
       "4        5      True 2015-09-04  ALJ66O1Y6SLHA  B000K2PJ4K   \n",
       "\n",
       "                                               style reviewerName  \\\n",
       "0   {'Size:': ' Big Boys', 'Color:': ' Blue/Orange'}     Tonya B.   \n",
       "1  {'Size:': ' Big Boys', 'Color:': ' Black (3746...     Tonya B.   \n",
       "2  {'Size:': ' Big Boys', 'Color:': ' Blue/Gray L...     Tonya B.   \n",
       "3  {'Size:': ' Big Boys', 'Color:': ' Blue (37867...     Tonya B.   \n",
       "4     {'Size:': ' Big Boys', 'Color:': ' Blue/Pink'}     Tonya B.   \n",
       "\n",
       "                 reviewText     summary  unixReviewTime  vote image  \n",
       "0  Great product and price!  Five Stars      1441324800   NaN   NaN  \n",
       "1  Great product and price!  Five Stars      1441324800   NaN   NaN  \n",
       "2  Great product and price!  Five Stars      1441324800   NaN   NaN  \n",
       "3  Great product and price!  Five Stars      1441324800   NaN   NaN  \n",
       "4  Great product and price!  Five Stars      1441324800   NaN   NaN  "
      ]
     },
     "execution_count": 4,
     "metadata": {},
     "output_type": "execute_result"
    }
   ],
   "source": [
    "data.reviewTime = pd.to_datetime(data.reviewTime,\n",
    "               format='%m %d, %Y')\n",
    "data.head()"
   ]
  },
  {
   "cell_type": "markdown",
   "id": "33c63534-1034-4183-8c4f-b449dd580212",
   "metadata": {},
   "source": [
    "# EDA"
   ]
  },
  {
   "cell_type": "code",
   "execution_count": 5,
   "id": "d7bdc5fe-e411-4471-bbb8-179df6a08615",
   "metadata": {},
   "outputs": [
    {
     "data": {
      "text/html": [
       "<div>\n",
       "<style scoped>\n",
       "    .dataframe tbody tr th:only-of-type {\n",
       "        vertical-align: middle;\n",
       "    }\n",
       "\n",
       "    .dataframe tbody tr th {\n",
       "        vertical-align: top;\n",
       "    }\n",
       "\n",
       "    .dataframe thead th {\n",
       "        text-align: right;\n",
       "    }\n",
       "</style>\n",
       "<table border=\"1\" class=\"dataframe\">\n",
       "  <thead>\n",
       "    <tr style=\"text-align: right;\">\n",
       "      <th></th>\n",
       "      <th>overall</th>\n",
       "      <th>unixReviewTime</th>\n",
       "      <th>vote</th>\n",
       "    </tr>\n",
       "  </thead>\n",
       "  <tbody>\n",
       "    <tr>\n",
       "      <th>count</th>\n",
       "      <td>3176.000000</td>\n",
       "      <td>3.176000e+03</td>\n",
       "      <td>297.000000</td>\n",
       "    </tr>\n",
       "    <tr>\n",
       "      <th>mean</th>\n",
       "      <td>4.404282</td>\n",
       "      <td>1.492211e+09</td>\n",
       "      <td>5.858586</td>\n",
       "    </tr>\n",
       "    <tr>\n",
       "      <th>std</th>\n",
       "      <td>1.034964</td>\n",
       "      <td>2.396788e+07</td>\n",
       "      <td>6.317624</td>\n",
       "    </tr>\n",
       "    <tr>\n",
       "      <th>min</th>\n",
       "      <td>1.000000</td>\n",
       "      <td>1.261699e+09</td>\n",
       "      <td>2.000000</td>\n",
       "    </tr>\n",
       "    <tr>\n",
       "      <th>25%</th>\n",
       "      <td>4.000000</td>\n",
       "      <td>1.479859e+09</td>\n",
       "      <td>2.000000</td>\n",
       "    </tr>\n",
       "    <tr>\n",
       "      <th>50%</th>\n",
       "      <td>5.000000</td>\n",
       "      <td>1.492560e+09</td>\n",
       "      <td>3.000000</td>\n",
       "    </tr>\n",
       "    <tr>\n",
       "      <th>75%</th>\n",
       "      <td>5.000000</td>\n",
       "      <td>1.508803e+09</td>\n",
       "      <td>7.000000</td>\n",
       "    </tr>\n",
       "    <tr>\n",
       "      <th>max</th>\n",
       "      <td>5.000000</td>\n",
       "      <td>1.530749e+09</td>\n",
       "      <td>35.000000</td>\n",
       "    </tr>\n",
       "  </tbody>\n",
       "</table>\n",
       "</div>"
      ],
      "text/plain": [
       "           overall  unixReviewTime        vote\n",
       "count  3176.000000    3.176000e+03  297.000000\n",
       "mean      4.404282    1.492211e+09    5.858586\n",
       "std       1.034964    2.396788e+07    6.317624\n",
       "min       1.000000    1.261699e+09    2.000000\n",
       "25%       4.000000    1.479859e+09    2.000000\n",
       "50%       5.000000    1.492560e+09    3.000000\n",
       "75%       5.000000    1.508803e+09    7.000000\n",
       "max       5.000000    1.530749e+09   35.000000"
      ]
     },
     "execution_count": 5,
     "metadata": {},
     "output_type": "execute_result"
    }
   ],
   "source": [
    "data.describe()"
   ]
  },
  {
   "cell_type": "code",
   "execution_count": 6,
   "id": "a3b1eaf0-e657-49a9-bbf3-ebe4520d8628",
   "metadata": {},
   "outputs": [
    {
     "name": "stdout",
     "output_type": "stream",
     "text": [
      "<class 'pandas.core.frame.DataFrame'>\n",
      "RangeIndex: 3176 entries, 0 to 3175\n",
      "Data columns (total 12 columns):\n",
      " #   Column          Non-Null Count  Dtype         \n",
      "---  ------          --------------  -----         \n",
      " 0   overall         3176 non-null   int64         \n",
      " 1   verified        3176 non-null   bool          \n",
      " 2   reviewTime      3176 non-null   datetime64[ns]\n",
      " 3   reviewerID      3176 non-null   object        \n",
      " 4   asin            3176 non-null   object        \n",
      " 5   style           3107 non-null   object        \n",
      " 6   reviewerName    3176 non-null   object        \n",
      " 7   reviewText      3160 non-null   object        \n",
      " 8   summary         3176 non-null   object        \n",
      " 9   unixReviewTime  3176 non-null   int64         \n",
      " 10  vote            297 non-null    float64       \n",
      " 11  image           106 non-null    object        \n",
      "dtypes: bool(1), datetime64[ns](1), float64(1), int64(2), object(7)\n",
      "memory usage: 276.2+ KB\n"
     ]
    }
   ],
   "source": [
    "data.info()"
   ]
  },
  {
   "cell_type": "markdown",
   "id": "27a845a7-81db-4f90-a9a5-31c0303ba2e2",
   "metadata": {},
   "source": [
    "## Распределение рейтингов"
   ]
  },
  {
   "cell_type": "code",
   "execution_count": 7,
   "id": "7800f9ac-9b5b-4f07-bcf5-66d598c41d0a",
   "metadata": {},
   "outputs": [
    {
     "data": {
      "text/plain": [
       "<Axes: >"
      ]
     },
     "execution_count": 7,
     "metadata": {},
     "output_type": "execute_result"
    },
    {
     "data": {
      "image/png": "[encoded data removed]",
      "text/plain": [
       "<Figure size 640x480 with 1 Axes>"
      ]
     },
     "metadata": {},
     "output_type": "display_data"
    }
   ],
   "source": [
    "data.overall.value_counts().sort_index(ascending=False).plot(kind='barh')"
   ]
  },
  {
   "cell_type": "markdown",
   "id": "d09a9d9a-25ea-4b05-8024-76ebe6eb2b1e",
   "metadata": {},
   "source": [
    "## Количество уникальных товаров"
   ]
  },
  {
   "cell_type": "code",
   "execution_count": 8,
   "id": "120ec855-7b68-466d-8e0d-54d72b454f7f",
   "metadata": {},
   "outputs": [
    {
     "data": {
      "text/plain": [
       "31"
      ]
     },
     "execution_count": 8,
     "metadata": {},
     "output_type": "execute_result"
    }
   ],
   "source": [
    "data.asin.drop_duplicates().count()"
   ]
  },
  {
   "cell_type": "markdown",
   "id": "7b21ae35-caa2-4855-acb5-4f3c09f7c842",
   "metadata": {},
   "source": [
    "## Количество уникальных пользователей"
   ]
  },
  {
   "cell_type": "code",
   "execution_count": 9,
   "id": "b6785b81-315c-4b2f-b17d-4c457edd20b0",
   "metadata": {},
   "outputs": [
    {
     "data": {
      "text/plain": [
       "406"
      ]
     },
     "execution_count": 9,
     "metadata": {},
     "output_type": "execute_result"
    }
   ],
   "source": [
    "data.reviewerID.drop_duplicates().count()"
   ]
  },
  {
   "cell_type": "code",
   "execution_count": 10,
   "id": "e3d1f72a-dd03-48e3-bfd6-207fc2ee0b4c",
   "metadata": {},
   "outputs": [],
   "source": [
    "def train_test_split(X, user_col, time_col):\n",
    "  full_history = X.sort_values([user_col, time_col]).groupby(user_col)\n",
    "  test = full_history.tail(1)\n",
    "  train = full_history.head(-1)\n",
    "  return train, test"
   ]
  },
  {
   "cell_type": "code",
   "execution_count": 11,
   "id": "b91d6855-56c5-448e-8016-ec15a728536f",
   "metadata": {},
   "outputs": [],
   "source": [
    "train, test = train_test_split(data, 'reviewerID', 'reviewTime')"
   ]
  },
  {
   "cell_type": "code",
   "execution_count": 12,
   "id": "5a18f107-a3f2-4f04-9424-e82d2b649a9a",
   "metadata": {},
   "outputs": [
    {
     "data": {
      "text/plain": [
       "(2770, 12)"
      ]
     },
     "execution_count": 12,
     "metadata": {},
     "output_type": "execute_result"
    }
   ],
   "source": [
    "train.shape"
   ]
  },
  {
   "cell_type": "code",
   "execution_count": 13,
   "id": "09b0ab00-809e-4170-95a8-52eb2c9d0178",
   "metadata": {},
   "outputs": [
    {
     "data": {
      "text/plain": [
       "(406, 12)"
      ]
     },
     "execution_count": 13,
     "metadata": {},
     "output_type": "execute_result"
    }
   ],
   "source": [
    "test.shape"
   ]
  },
  {
   "cell_type": "code",
   "execution_count": 14,
   "id": "fa27ee4a-5d4a-4bcc-adc8-5f392b140b26",
   "metadata": {},
   "outputs": [],
   "source": [
    "overall = list(train.overall)\n",
    "\n",
    "rows = train.reviewerID.astype('category').cat.codes\n",
    "cols = train.asin.astype('category').cat.codes\n",
    "\n",
    "train_sparse = sparse.csr_matrix((overall, (rows, cols)), shape=(train.reviewerID.nunique(), train.asin.nunique()))"
   ]
  },
  {
   "cell_type": "code",
   "execution_count": 15,
   "id": "3a529f40-60b2-4be8-b6f9-842bb32f5e0b",
   "metadata": {},
   "outputs": [
    {
     "data": {
      "text/plain": [
       "<406x25 sparse matrix of type '<class 'numpy.intc'>'\n",
       "\twith 2658 stored elements in Compressed Sparse Row format>"
      ]
     },
     "execution_count": 15,
     "metadata": {},
     "output_type": "execute_result"
    }
   ],
   "source": [
    "train_sparse"
   ]
  },
  {
   "cell_type": "code",
   "execution_count": 16,
   "id": "84726a2b-8d5a-4b1f-bb62-7c34ff7f1f0f",
   "metadata": {},
   "outputs": [
    {
     "data": {
      "text/plain": [
       "73.8128078817734"
      ]
     },
     "execution_count": 16,
     "metadata": {},
     "output_type": "execute_result"
    }
   ],
   "source": [
    "matrix_size = train_sparse.shape[0]*train_sparse.shape[1] # Number of possible interactions in the matrix\n",
    "num_purchases = len(train_sparse.nonzero()[0]) # Number of items interacted with\n",
    "sparsity = 100*(1 - (num_purchases/matrix_size))\n",
    "sparsity"
   ]
  },
  {
   "cell_type": "code",
   "execution_count": 17,
   "id": "429232fd-e780-4647-a548-14188aa52ada",
   "metadata": {},
   "outputs": [
    {
     "data": {
      "text/plain": [
       "(406, 25)"
      ]
     },
     "execution_count": 17,
     "metadata": {},
     "output_type": "execute_result"
    }
   ],
   "source": [
    "train_sparse.shape"
   ]
  },
  {
   "cell_type": "markdown",
   "id": "c7d0ea03-40ee-40b4-a11f-edb7969f4837",
   "metadata": {},
   "source": [
    "# Метрики"
   ]
  },
  {
   "cell_type": "code",
   "execution_count": null,
   "id": "da326259-e5d6-46fb-9129-140b0932ee13",
   "metadata": {},
   "outputs": [],
   "source": [
    "def mrr(df: pd.DataFrame, pred_col='preds', true_col='true') -> float:\n",
    "    mrr_values = []\n",
    "    for _, row in df.iterrows():\n",
    "      try:\n",
    "        user_mrr = 1 / (row[pred_col].index(row[true_col]) + 1)\n",
    "      except ValueError:\n",
    "        user_mrr = 0\n",
    "      mrr_values.append(user_mrr)\n",
    "    return np.mean(mrr_values)\n",
    "\n",
    "def hr(df: pd.DataFrame, pred_col='preds', true_col='true') -> float:\n",
    "    hr_values = []\n",
    "    for _, row in df.iterrows():\n",
    "      hr_values.append(int(row[true_col] in row[pred_col]))\n",
    "    return np.mean(hr_values)\n",
    "\n",
    "def ndcg(df: pd.DataFrame, pred_col='preds', true_col='true') -> float:\n",
    "    # ideal dcg == 1 при стратегии разделения leave-one-out\n",
    "    ndcg_values = []\n",
    "    for _, row in df.iterrows():\n",
    "      try:\n",
    "        user_ndcg = 1 / np.log2(row[pred_col].index(row[true_col]) + 2)\n",
    "      except ValueError:\n",
    "        user_ndcg = 0\n",
    "      ndcg_values.append(user_ndcg)\n",
    "    return np.mean(ndcg_values)\n",
    "\n",
    "def coverage(train_df: pd.DataFrame, pred_df: pd.DataFrame, item_id='item_id', pred_col='preds') -> float:\n",
    "    total_items_num = train_df[item_id].nunique()\n",
    "    pred_items_num = len(set.union(*pred_df[pred_col].map(lambda x: set(x))))\n",
    "    return pred_items_num / total_items_num\n",
    "\n",
    "def calculate_metrics(train_df: pd.DataFrame, pred_df: pd.DataFrame, item_id='item_id', pred_col='preds', true_col='true'):\n",
    "    print(f'mrr = {mrr(pred_df, true_col=true_col)}')\n",
    "    print(f'hr = {hr(pred_df, true_col=true_col)}')\n",
    "    print(f'ndcg = {ndcg(pred_df, true_col=true_col)}')\n",
    "    print(f'coverage = {coverage(train_df, pred_df, item_id=item_id)}')"
   ]
  },
  {
   "cell_type": "markdown",
   "id": "9f78e9d8-6a62-4a99-8239-5b2ad880a522",
   "metadata": {},
   "source": [
    "# Популярные товары"
   ]
  },
  {
   "cell_type": "code",
   "execution_count": 37,
   "id": "3147fc1d-87dd-44e4-abe6-a9ec0b7ca0c3",
   "metadata": {},
   "outputs": [],
   "source": [
    "k = 10\n",
    "count_items = Counter(train.asin)\n",
    "count_items = [*count_items.items()]\n",
    "count_items.sort(key=lambda x: x[1], reverse=True)"
   ]
  },
  {
   "cell_type": "code",
   "execution_count": 38,
   "id": "5fbbe784-89d4-4f52-871a-9d55e41fb343",
   "metadata": {},
   "outputs": [],
   "source": [
    "pred_items = [k for k, v in count_items[:k]]"
   ]
  },
  {
   "cell_type": "code",
   "execution_count": 39,
   "id": "1f7fe063-2025-4fe6-934d-abd418ff9a29",
   "metadata": {},
   "outputs": [],
   "source": [
    "pred = test.copy()\n",
    "pred['preds'] = [pred_items] * len(pred)"
   ]
  },
  {
   "cell_type": "code",
   "execution_count": 40,
   "id": "ed49194f-24dd-42b3-bb82-c75119bf467a",
   "metadata": {},
   "outputs": [
    {
     "name": "stdout",
     "output_type": "stream",
     "text": [
      "mrr = 0.10358706701071234\n",
      "hr = 0.9334975369458128\n",
      "ndcg = 0.27882111400540355\n",
      "coverage = 0.4\n"
     ]
    }
   ],
   "source": [
    "calculate_metrics(train, pred, item_id='asin', true_col='asin')"
   ]
  },
  {
   "cell_type": "markdown",
   "id": "4aaf5de4-0b2b-42f7-8109-3518bc392281",
   "metadata": {},
   "source": [
    "# userKNN"
   ]
  },
  {
   "cell_type": "code",
   "execution_count": 52,
   "id": "54184322-ef43-4c5b-b6f5-e28a34305e92",
   "metadata": {},
   "outputs": [],
   "source": [
    "k_neighb = 5\n",
    "test = test[test['overall'] == 5]"
   ]
  },
  {
   "cell_type": "code",
   "execution_count": 53,
   "id": "db4162b1-9e04-4dfa-8db5-f91122dea524",
   "metadata": {},
   "outputs": [],
   "source": [
    "# маппинг id в индексы\n",
    "def get_mapping(train_data):\n",
    "    user_ids = sorted(train_data['reviewerID'].unique().tolist())\n",
    "    item_ids = sorted(train_data['asin'].unique().tolist())\n",
    "\n",
    "    n_users = len(user_ids)\n",
    "    n_items = len(item_ids)\n",
    "\n",
    "    user_idx = range(n_users)\n",
    "    item_idx = range(n_items)\n",
    "\n",
    "    user_mapping = dict(zip(user_ids, user_idx)) # {user_id: user_ind}\n",
    "    item_mapping = dict(zip(item_ids, item_idx)) # {item_id: item_ind}\n",
    "    return user_mapping, item_mapping"
   ]
  },
  {
   "cell_type": "code",
   "execution_count": 54,
   "id": "c71f0cc3-0632-42b3-b68a-60c74dbf5aac",
   "metadata": {},
   "outputs": [],
   "source": [
    "def userKNN(train_data, test_data, k_neighb, k):\n",
    "    user_mapping, item_mapping = get_mapping(train_data)\n",
    "    train_data['reviewerID'] = train_data['reviewerID'].map(user_mapping)\n",
    "    test_data['reviewerID'] = test_data['reviewerID'].map(user_mapping)\n",
    "\n",
    "    R = pd.pivot_table(train_data, values='overall', index='reviewerID', columns='asin', fill_value=0) # shape = n_users * n_items\n",
    "    user_sim = cosine_similarity(R) # shape = n_users * n_users\n",
    "    preds = []\n",
    "    for _, row in tqdm_notebook(test_data.iterrows()):\n",
    "        user = int(row['reviewerID'])\n",
    "        neighb_inds = np.argsort(user_sim[user])[::-1][1: k_neighb + 1]\n",
    "        neighb_sim = np.sort(user_sim[user])[::-1][1: k_neighb + 1]\n",
    "\n",
    "        sum_ratings = (R.iloc[neighb_inds] * neighb_sim.reshape(k_neighb, -1)).sum(axis=0)\n",
    "        sum_sim = (R.iloc[neighb_inds].astype(bool) * neighb_sim.reshape(k_neighb, -1)).sum(axis=0)\n",
    "\n",
    "        user_ratings = sum_ratings / (sum_sim + 1e-10)\n",
    "        user_ratings = pd.DataFrame(user_ratings, columns=['pred']).reset_index()\n",
    "        user_ratings.sort_values(by=['pred'], ascending=False, inplace=True)\n",
    "        preds.append(user_ratings['asin'][:k].tolist())\n",
    "\n",
    "    test_data['preds'] = preds\n",
    "    return test_data"
   ]
  },
  {
   "cell_type": "code",
   "execution_count": 55,
   "id": "f8f481c6-a084-4287-9ea7-e060b91fcc92",
   "metadata": {},
   "outputs": [
    {
     "data": {
      "application/vnd.jupyter.widget-view+json": {
       "model_id": "93352030d76b4335850c54c6f6b83e9c",
       "version_major": 2,
       "version_minor": 0
      },
      "text/plain": [
       "0it [00:00, ?it/s]"
      ]
     },
     "metadata": {},
     "output_type": "display_data"
    }
   ],
   "source": [
    "pred = userKNN(train, test, k_neighb, k)"
   ]
  },
  {
   "cell_type": "code",
   "execution_count": 56,
   "id": "327c366d-b643-43fe-8133-a0b37ccc00ff",
   "metadata": {},
   "outputs": [
    {
     "name": "stdout",
     "output_type": "stream",
     "text": [
      "mrr = 0.042182685039827895\n",
      "hr = 0.08058608058608059\n",
      "ndcg = 0.05054693341806657\n",
      "coverage = 0.92\n"
     ]
    }
   ],
   "source": [
    "calculate_metrics(train, pred, item_id='asin', true_col='asin')"
   ]
  },
  {
   "cell_type": "markdown",
   "id": "7ca7ae0e-335f-470e-90c3-da2464e5ae36",
   "metadata": {},
   "source": [
    "# itemKNN"
   ]
  },
  {
   "cell_type": "code",
   "execution_count": 57,
   "id": "5343b552-6c70-47e2-97b8-b60581ec49cf",
   "metadata": {},
   "outputs": [],
   "source": [
    "def itemKNN(train_data, test_data, k_neighb, k):\n",
    "    user_mapping, item_mapping = get_mapping(train_data)\n",
    "    train_data['reviewerID'] = train_data['reviewerID'].map(user_mapping)\n",
    "    test_data['reviewerID'] = test_data['reviewerID'].map(user_mapping)\n",
    "    train_data['asin'] = train_data['asin'].map(item_mapping)\n",
    "    test_data['asin'] = test_data['asin'].map(item_mapping)\n",
    "\n",
    "    R = pd.pivot_table(train_data, values='overall', index='reviewerID', columns='asin', fill_value=0) # shape = n_users * n_items\n",
    "    item_sim = cosine_similarity(R.T) # shape = n_items * n_items\n",
    "    preds = []\n",
    "    for _, row in tqdm_notebook(test_data.iterrows()):\n",
    "        user = row['reviewerID']\n",
    "        user_interactions = train_data[train_data['reviewerID'] == user]\n",
    "        user_interactions = user_interactions[user_interactions['overall'] == 5]\n",
    "\n",
    "        item_preds = pd.DataFrame()\n",
    "        for _, row in user_interactions.iterrows():\n",
    "            item = row['asin']\n",
    "            neighb_inds = np.argsort(item_sim[item])[::-1][1: k_neighb + 1]\n",
    "            neighb_sim = np.sort(item_sim[item])[::-1][1: k_neighb + 1]\n",
    "\n",
    "            sum_ratings = (R.T.iloc[neighb_inds] * neighb_sim.reshape(k_neighb, -1)).sum(axis=1)\n",
    "            sum_sim = (R.T.iloc[neighb_inds].astype(bool) * neighb_sim.reshape(k_neighb, -1)).sum(axis=1)\n",
    "\n",
    "            item_ratings = sum_ratings / (sum_sim + 1e-10)\n",
    "            item_ratings = pd.DataFrame(item_ratings, columns=['pred']).reset_index()\n",
    "\n",
    "            item_preds = pd.concat([item_preds, item_ratings])\n",
    "\n",
    "        item_preds.sort_values(by=['pred'], ascending=False, inplace=True)\n",
    "        preds.append(item_preds['asin'][:k].tolist())\n",
    "\n",
    "    test_data['preds'] = preds\n",
    "    return test_data"
   ]
  },
  {
   "cell_type": "code",
   "execution_count": 58,
   "id": "2c36153e-12ca-42d9-a1aa-6bde65c1c2fe",
   "metadata": {},
   "outputs": [
    {
     "name": "stdout",
     "output_type": "stream",
     "text": [
      "mrr = 0.042182685039827895\n",
      "hr = 0.08058608058608059\n",
      "ndcg = 0.05054693341806657\n",
      "coverage = 0.92\n"
     ]
    }
   ],
   "source": [
    "calculate_metrics(train, pred, item_id='asin', true_col='asin')"
   ]
  },
  {
   "cell_type": "code",
   "execution_count": null,
   "id": "ca3d5ac2-867e-4732-86fe-5f85f5399958",
   "metadata": {},
   "outputs": [],
   "source": []
  },
  {
   "cell_type": "markdown",
   "id": "ac4402d4-2a6b-4237-b932-d39f43899283",
   "metadata": {},
   "source": [
    "# ALS"
   ]
  },
  {
   "cell_type": "code",
   "execution_count": 60,
   "id": "14729888-2772-4d98-9811-3bdca37a33fe",
   "metadata": {},
   "outputs": [],
   "source": [
    "train, test = train_test_split(data, 'reviewerID', 'reviewTime')"
   ]
  },
  {
   "cell_type": "code",
   "execution_count": 18,
   "id": "7e375790-3907-434a-928e-e86d008615bf",
   "metadata": {},
   "outputs": [
    {
     "data": {
      "application/vnd.jupyter.widget-view+json": {
       "model_id": "e37ee36a31fe4b6990c6a63c27810f20",
       "version_major": 2,
       "version_minor": 0
      },
      "text/plain": [
       "  0%|          | 0/50 [00:00<?, ?it/s]"
      ]
     },
     "metadata": {},
     "output_type": "display_data"
    }
   ],
   "source": [
    "import implicit\n",
    "algo = implicit.als.AlternatingLeastSquares(factors = 16, regularization = 0.1, iterations =50, use_gpu=False)\n",
    "algo.fit((train_sparse).astype('double'))"
   ]
  },
  {
   "cell_type": "code",
   "execution_count": 19,
   "id": "7c960ca9-c071-4825-9eef-bb9d56b5fd08",
   "metadata": {},
   "outputs": [
    {
     "name": "stdout",
     "output_type": "stream",
     "text": [
      "(406, 25)\n",
      "(406, 16) (25, 16)\n"
     ]
    }
   ],
   "source": [
    "user_vecs = algo.user_factors\n",
    "item_vecs = algo.item_factors\n",
    "# проверим по размерам, что мы действиельно не перепутали users и items\n",
    "print(train_sparse.shape)\n",
    "print(user_vecs.shape, item_vecs.shape)"
   ]
  },
  {
   "cell_type": "code",
   "execution_count": 20,
   "id": "d012c069-8f1f-44d3-bf96-1fd68d394ab2",
   "metadata": {},
   "outputs": [
    {
     "data": {
      "text/plain": [
       "(406, 25)"
      ]
     },
     "execution_count": 20,
     "metadata": {},
     "output_type": "execute_result"
    }
   ],
   "source": [
    "user_vecs.dot(item_vecs.T).shape"
   ]
  },
  {
   "cell_type": "code",
   "execution_count": 21,
   "id": "932f742b-5e16-42dd-880d-ff8be038120d",
   "metadata": {},
   "outputs": [],
   "source": [
    "def predict(user_vecs, item_vecs, rating_matrix=None, filter_seen=False, k=10):\n",
    "    id2user = dict(zip(rows, train.reviewerID))\n",
    "    id2item = dict(zip(cols, train.asin))\n",
    "\n",
    "    scores = user_vecs.dot(item_vecs.T)\n",
    "    if filter_seen:\n",
    "        scores = np.multiply(\n",
    "            scores,\n",
    "            np.invert(rating_matrix.todense().astype(bool))\n",
    "            )\n",
    "\n",
    "    preds = pd.DataFrame(columns = ['reviewerID',\t'preds'])\n",
    "\n",
    "    ind_part = np.argpartition(scores, -k + 1)[:, -k:].copy()\n",
    "    scores_not_sorted = np.take_along_axis(scores, ind_part, axis=1)\n",
    "    ind_sorted = np.argsort(scores_not_sorted, axis=1)\n",
    "    indices = np.take_along_axis(ind_part, ind_sorted, axis=1)\n",
    "    preds = pd.DataFrame({\n",
    "        'reviewerID': range(user_vecs.shape[0]),\n",
    "        'preds': np.flip(indices, axis=1).tolist(),\n",
    "        })\n",
    "    preds['reviewerID'] = preds['reviewerID'].map(id2user)\n",
    "    preds['preds'] = preds['preds'].map(lambda inds: [id2item[i] for i in inds])\n",
    "    return preds"
   ]
  },
  {
   "cell_type": "code",
   "execution_count": 22,
   "id": "0e71cb54-4509-4f3d-a297-53cf52ecbde7",
   "metadata": {},
   "outputs": [],
   "source": [
    "pred = predict(user_vecs, item_vecs, train_sparse, filter_seen=True)\n",
    "pred = pred.merge(test, how='left', on='reviewerID')"
   ]
  },
  {
   "cell_type": "code",
   "execution_count": 35,
   "id": "58b9c175-82f1-4c4b-b7cb-cc21e3ceb00d",
   "metadata": {},
   "outputs": [
    {
     "name": "stdout",
     "output_type": "stream",
     "text": [
      "mrr = 0.6548977637031823\n",
      "hr = 0.8694581280788177\n",
      "ndcg = 0.7048602301755226\n",
      "coverage = 1.0\n"
     ]
    }
   ],
   "source": [
    "calculate_metrics(train, pred, item_id='asin', true_col='asin')"
   ]
  },
  {
   "cell_type": "markdown",
   "id": "d12d8ed2-4d4c-4270-a1a7-2adfe28f5394",
   "metadata": {},
   "source": [
    "# Выводы\n",
    "* Бейзлайн на популярных товарах показал высокую метрику hr, то есть популярные товары довольно часто покупают\n",
    "* Модели колаборативной фильтрации показали довольно низкие значения метрик, то есть прогноз хуже, чем у бейзлайна. Однако, метрика coverage довольно высокая, то есть в рекомендации попадает большое число товаров\n",
    "* Модель ALS показала высокие значения всех метрик, то есть прогноз самый лучший"
   ]
  },
  {
   "cell_type": "code",
   "execution_count": null,
   "id": "371f85e3-2737-44c7-be2c-ec2d8a5d44f3",
   "metadata": {},
   "outputs": [],
   "source": []
  }
 ],
 "metadata": {
  "kernelspec": {
   "display_name": "Python 3 (ipykernel)",
   "language": "python",
   "name": "python3"
  },
  "language_info": {
   "codemirror_mode": {
    "name": "ipython",
    "version": 3
   },
   "file_extension": ".py",
   "mimetype": "text/x-python",
   "name": "python",
   "nbconvert_exporter": "python",
   "pygments_lexer": "ipython3",
   "version": "3.11.7"
  }
 },
 "nbformat": 4,
 "nbformat_minor": 5
}
